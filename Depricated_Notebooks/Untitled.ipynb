{
 "cells": [
  {
   "cell_type": "code",
   "execution_count": 1,
   "id": "excellent-coordinate",
   "metadata": {},
   "outputs": [],
   "source": [
    "def SumOfProduct(n):\n",
    "    prd_sum = 0\n",
    "    for i in range(1, n+1):\n",
    "        j = int(n/i)\n",
    "        prd = i*j\n",
    "        prd_sum += prd\n",
    "        \n",
    "    return prd_sum"
   ]
  },
  {
   "cell_type": "code",
   "execution_count": 2,
   "id": "overhead-trainer",
   "metadata": {},
   "outputs": [
    {
     "data": {
      "text/plain": [
       "33"
      ]
     },
     "execution_count": 2,
     "metadata": {},
     "output_type": "execute_result"
    }
   ],
   "source": [
    "SumOfProduct(6)"
   ]
  },
  {
   "cell_type": "code",
   "execution_count": 30,
   "id": "appropriate-leisure",
   "metadata": {},
   "outputs": [],
   "source": [
    "def FindSubString(str):\n",
    "    s = [ind_s for ind_s in str]\n",
    "    return_char = []\n",
    "    for i in range(1, len(s)):\n",
    "        for j in range(int(len(s)-i+1)):\n",
    "            unique_list = get_unique_char(s[j:j+i])\n",
    "            if len(unique_list) <= 2:\n",
    "                return_char = s[j:j+i]\n",
    "                \n",
    "    return \"\".join(return_char)\n",
    "    \n",
    "def get_unique_char(lst):\n",
    "#     print(lst)\n",
    "    list_set = set(lst)\n",
    "    unique_lst = list(list_set)\n",
    "    \n",
    "    return unique_lst"
   ]
  },
  {
   "cell_type": "code",
   "execution_count": 31,
   "id": "private-industry",
   "metadata": {},
   "outputs": [
    {
     "data": {
      "text/plain": [
       "'bccc'"
      ]
     },
     "execution_count": 31,
     "metadata": {},
     "output_type": "execute_result"
    }
   ],
   "source": [
    "FindSubString(\"abcabcabcabccc\")"
   ]
  },
  {
   "cell_type": "code",
   "execution_count": null,
   "id": "random-projector",
   "metadata": {},
   "outputs": [],
   "source": []
  },
  {
   "cell_type": "code",
   "execution_count": null,
   "id": "going-garbage",
   "metadata": {},
   "outputs": [],
   "source": []
  },
  {
   "cell_type": "code",
   "execution_count": 24,
   "id": "periodic-genesis",
   "metadata": {},
   "outputs": [],
   "source": [
    "def RelativeSpeed(direction, distance1, time1, distance2, time2):\n",
    "    speed1 = distance1/time1\n",
    "    speed2 = distance2/time2\n",
    "    \n",
    "    if direction == 0:\n",
    "        return int(speed1+speed2)\n",
    "    elif direction == 1:\n",
    "        return int(speed1-speed2)"
   ]
  },
  {
   "cell_type": "code",
   "execution_count": 25,
   "id": "eleven-immune",
   "metadata": {},
   "outputs": [
    {
     "data": {
      "text/plain": [
       "5"
      ]
     },
     "execution_count": 25,
     "metadata": {},
     "output_type": "execute_result"
    }
   ],
   "source": [
    "RelativeSpeed(1, 50, 2, 60, 3)"
   ]
  },
  {
   "cell_type": "code",
   "execution_count": null,
   "id": "viral-classics",
   "metadata": {},
   "outputs": [],
   "source": [
    "def NumberOfCarries(num1, num2):\n",
    "    num1 = [int(s) for s in str(num1)]\n",
    "    num2 = [int(s) for s in str(num2)]\n",
    "    \n",
    "    "
   ]
  },
  {
   "cell_type": "code",
   "execution_count": 32,
   "id": "addressed-marina",
   "metadata": {},
   "outputs": [],
   "source": [
    "def ProductSmallestPair(sum, arr):\n",
    "    if len(arr) < 2:\n",
    "        return -1\n",
    "    \n",
    "    else:\n",
    "        arr = sorted(arr)\n",
    "        for i in range(len(arr)-1):\n",
    "            if arr[i] + arr[i+1] < sum:\n",
    "                return arr[i]*arr[i+1]\n",
    "            "
   ]
  },
  {
   "cell_type": "code",
   "execution_count": 34,
   "id": "expressed-disorder",
   "metadata": {},
   "outputs": [
    {
     "data": {
      "text/plain": [
       "-21"
      ]
     },
     "execution_count": 34,
     "metadata": {},
     "output_type": "execute_result"
    }
   ],
   "source": [
    "ProductSmallestPair(4, [9,8,3,-7,3,9])"
   ]
  },
  {
   "cell_type": "code",
   "execution_count": null,
   "id": "behind-teaching",
   "metadata": {},
   "outputs": [],
   "source": []
  }
 ],
 "metadata": {
  "kernelspec": {
   "display_name": "Python 3",
   "language": "python",
   "name": "python3"
  },
  "language_info": {
   "codemirror_mode": {
    "name": "ipython",
    "version": 3
   },
   "file_extension": ".py",
   "mimetype": "text/x-python",
   "name": "python",
   "nbconvert_exporter": "python",
   "pygments_lexer": "ipython3",
   "version": "3.8.8"
  }
 },
 "nbformat": 4,
 "nbformat_minor": 5
}
